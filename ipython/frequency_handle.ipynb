{
 "cells": [
  {
   "cell_type": "code",
   "execution_count": 16,
   "metadata": {
    "collapsed": false
   },
   "outputs": [],
   "source": [
    "import rake\n",
    "import pandas as pd\n",
    "import numpy as np\n",
    "import re"
   ]
  },
  {
   "cell_type": "code",
   "execution_count": 20,
   "metadata": {
    "collapsed": false
   },
   "outputs": [],
   "source": [
    "filename = '../data/survey_unilever.xlsx'\n",
    "nb_kp = 10\n",
    "stopword_pattern = rake.build_stop_word_regex(\"SmartStoplist.txt\")\n",
    "min_char_length=1\n",
    "max_words_length=3\n",
    "headers=''\n",
    "groupby=''"
   ]
  },
  {
   "cell_type": "code",
   "execution_count": 21,
   "metadata": {
    "collapsed": false
   },
   "outputs": [],
   "source": [
    "nb_kp = float(nb_kp)\n",
    "srv_raw = pd.ExcelFile(filename)\n",
    "srv = srv_raw.parse()\n",
    "\n",
    "if len(headers) == 0:\n",
    "    del srv[list(srv)[0]]\n",
    "    qst = list(srv)\n",
    "    qst = [str(q).split(\"\\n\")[0] for q in list(srv)]\n",
    "    srv.columns = qst\n",
    "else:\n",
    "    qst = headers.split('%')\n",
    "    cols = [q.strip('\\n') for q in srv.columns]\n",
    "    srv.columns = cols\n",
    "\n",
    "srv_concat = [reduce(lambda x,y: str(x)+'. '+str(y), srv[qst[k]]) for k in range(len(qst))]"
   ]
  },
  {
   "cell_type": "code",
   "execution_count": 22,
   "metadata": {
    "collapsed": false
   },
   "outputs": [],
   "source": [
    "text = srv_concat[0]"
   ]
  },
  {
   "cell_type": "code",
   "execution_count": 23,
   "metadata": {
    "collapsed": false
   },
   "outputs": [],
   "source": [
    "sentence_list = rake.split_sentences(text)\n",
    "\n",
    "sentence_list_check = rake.spell_check(sentence_list)\n",
    "        \n",
    "sentence_list = rake.handle_neg_list(sentence_list_check)"
   ]
  },
  {
   "cell_type": "code",
   "execution_count": 31,
   "metadata": {
    "collapsed": false
   },
   "outputs": [
    {
     "name": "stdout",
     "output_type": "stream",
     "text": [
      "['smooth', 'soft', 'skin no_blemishes', 'no_irritations', 'skin', '', 'no_dry', '', 'soft', '', 'touch', 'no_cracks no_wrinkles', '', 'skin', 'feels soft', '', '', 'nice glow', '', '', 'glowing', 'skin tone', 'soft']\n"
     ]
    }
   ],
   "source": [
    "min_keyphrase_frequency=2\n",
    "phrase_list = []\n",
    "raw_list = []\n",
    "for s in sentence_list[:10]:\n",
    "    tmp = re.sub(stopword_pattern, '|', s.strip())\n",
    "    phrases = tmp.split(\"|\")\n",
    "    \n",
    "    for phrase in phrases:\n",
    "        phrase = phrase.strip().lower()\n",
    "        raw_list.append(phrase)\n",
    "print(raw_list)\n",
    "for phraz in raw_list:\n",
    "    if phraz != \"\" and rake.is_acceptable(phraz, min_char_length, max_words_length):\n",
    "        if min_keyphrase_frequency > 1 and raw_list.count(phraz) < min_keyphrase_frequency:\n",
    "            continue\n",
    "        else:\n",
    "            phrase_list.append(phraz)"
   ]
  },
  {
   "cell_type": "code",
   "execution_count": 32,
   "metadata": {
    "collapsed": false
   },
   "outputs": [
    {
     "data": {
      "text/plain": [
       "['soft', 'skin', 'soft', 'skin', 'soft']"
      ]
     },
     "execution_count": 32,
     "metadata": {},
     "output_type": "execute_result"
    }
   ],
   "source": [
    "phrase_list"
   ]
  },
  {
   "cell_type": "code",
   "execution_count": null,
   "metadata": {
    "collapsed": false
   },
   "outputs": [],
   "source": []
  }
 ],
 "metadata": {
  "anaconda-cloud": {},
  "kernelspec": {
   "display_name": "unilever",
   "language": "python",
   "name": "unilever"
  },
  "language_info": {
   "codemirror_mode": {
    "name": "ipython",
    "version": 2
   },
   "file_extension": ".py",
   "mimetype": "text/x-python",
   "name": "python",
   "nbconvert_exporter": "python",
   "pygments_lexer": "ipython2",
   "version": "2.7.13"
  }
 },
 "nbformat": 4,
 "nbformat_minor": 0
}
