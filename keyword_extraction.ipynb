{
 "cells": [
  {
   "cell_type": "markdown",
   "metadata": {},
   "source": [
    "## Use of RAKE algorithm for keyword extraction\n",
    "### Source: https://github.com/zelandiya/RAKE-tutorial\n",
    "\n",
    "RAKE is the first keyword extraction algorithm to be tested for the NLP-Unilever project. We will adapt it to the format of the input data."
   ]
  },
  {
   "cell_type": "code",
   "execution_count": 7,
   "metadata": {
    "collapsed": true
   },
   "outputs": [],
   "source": [
    "import pandas as pd"
   ]
  },
  {
   "cell_type": "code",
   "execution_count": 5,
   "metadata": {
    "collapsed": false
   },
   "outputs": [],
   "source": [
    "#RAKE Imports\n",
    "from __future__ import absolute_import\n",
    "from __future__ import print_function\n",
    "import six\n",
    "\n",
    "import rake\n",
    "import operator\n",
    "import io"
   ]
  },
  {
   "cell_type": "markdown",
   "metadata": {},
   "source": [
    "### Data preprocessing\n",
    "Preparing the survey data as a chain of characters."
   ]
  },
  {
   "cell_type": "code",
   "execution_count": 63,
   "metadata": {
    "collapsed": false
   },
   "outputs": [
    {
     "data": {
      "text/plain": [
       "['What is Healthy Skin?',\n",
       " 'How do you know your skin is healthy?',\n",
       " 'How do you know your skin is getting healthier with every shower?',\n",
       " 'How do you get healthy skin?',\n",
       " 'How do you maintain healthy skin?',\n",
       " 'How Bar Soap or Body Wash gives you Healthy Skin?',\n",
       " 'How concerned']"
      ]
     },
     "execution_count": 63,
     "metadata": {},
     "output_type": "execute_result"
    }
   ],
   "source": [
    "srv_raw = pd.ExcelFile(\"../data/survey_unilever.xlsx\")\n",
    "srv = srv_raw.parse()\n",
    "del srv[list(srv)[0]]\n",
    "qst = list(srv)\n",
    "qst_clean = [str(q).split(\"\\n\")[0] for q in list(srv)]\n",
    "qst_clean"
   ]
  },
  {
   "cell_type": "code",
   "execution_count": 64,
   "metadata": {
    "collapsed": false
   },
   "outputs": [],
   "source": [
    "srv_concat = [reduce(lambda x,y: str(x)+'. '+str(y), srv[qst[k]]) for k in range(len(srv.columns))]"
   ]
  },
  {
   "cell_type": "markdown",
   "metadata": {},
   "source": [
    "### RAKE Algorithm\n",
    "\n",
    "keywords contains the top 10 keyphrases for each question of the survey. "
   ]
  },
  {
   "cell_type": "code",
   "execution_count": 67,
   "metadata": {
    "collapsed": false
   },
   "outputs": [],
   "source": [
    "# Import list of Stop Words\n",
    "stoppath = \"SmartStoplist.txt\"\n",
    "\n",
    "#Initialize RAKE by providing a path to a stopwords file\n",
    "'''\n",
    "Arguments: \n",
    "    stoppath: path to the list of stopwords\n",
    "    int1 (5): min_char_length, minimum number of characters per word\n",
    "    int2 (3): max_words_length, maximum number of words per keyphrase\n",
    "    int4 (4): min_keyword_frequency, minimum nb of occurences for the keyword in the text.\n",
    "'''\n",
    "rake_object = rake.Rake(stoppath, 3, 3, 3)\n",
    "\n",
    "keywords = {qst_clean[k]: rake_object.run(srv_concat[k])[:10] for k in range(len(qst_clean))}"
   ]
  },
  {
   "cell_type": "code",
   "execution_count": 68,
   "metadata": {
    "collapsed": false
   },
   "outputs": [
    {
     "data": {
      "text/plain": [
       "{'How Bar Soap or Body Wash gives you Healthy Skin?': [('body wash',\n",
       "   4.166666666666667),\n",
       "  ('dead skin', 3.8821138211382116),\n",
       "  ('bar soap', 3.8),\n",
       "  ('adding moisture', 3.5142857142857142),\n",
       "  ('harsh chemicals', 3.3714285714285714),\n",
       "  ('moisturizing soap', 3.311111111111111),\n",
       "  ('healthy skin', 3.2410881801125706),\n",
       "  ('dry skin', 3.198780487804878),\n",
       "  ('skin type', 3.1043360433604335),\n",
       "  ('skin smooth', 3.048780487804878)],\n",
       " 'How concerned': [('slightly concerned', 3.677631578947368),\n",
       "  ('extremely concerned', 3.677631578947368),\n",
       "  ('moderately concerned', 3.677631578947368),\n",
       "  ('concerned', 1.6776315789473684)],\n",
       " 'How do you get healthy skin?': [('moisturizing body wash',\n",
       "   5.711764705882353),\n",
       "  ('quality products', 4.322545846817691),\n",
       "  ('processed foods', 4.3076923076923075),\n",
       "  ('good diet', 4.216666666666667),\n",
       "  ('body wash', 4.1517647058823535),\n",
       "  ('healthy diet', 4.0773809523809526),\n",
       "  ('good soap', 4.072727272727272),\n",
       "  ('good products', 4.066990291262136),\n",
       "  ('drink plenty', 3.96875),\n",
       "  ('healthy skin', 3.9675324675324672)],\n",
       " 'How do you know your skin is getting healthier with every shower?': [('dead skin',\n",
       "   4.148148148148149),\n",
       "  ('feels moist', 4.074561403508772),\n",
       "  ('body wash', 4.0125),\n",
       "  ('feels good', 3.790247678018576),\n",
       "  ('lotion needed', 3.666666666666667),\n",
       "  ('feels smooth', 3.550751879699248),\n",
       "  ('feels soft', 3.5131578947368425),\n",
       "  ('feels smoother', 3.4078947368421053),\n",
       "  ('feels softer', 3.36244019138756),\n",
       "  ('feels moisturized', 3.1781650071123755)],\n",
       " 'How do you know your skin is healthy?': [('break outs', 3.666666666666667),\n",
       "  ('blemish free', 3.6666666666666665),\n",
       "  ('feels good', 3.5636704119850187),\n",
       "  ('good color', 3.5555555555555554),\n",
       "  ('feels smooth', 3.1933000416146484),\n",
       "  ('overly dry', 3.188679245283019),\n",
       "  ('feels soft', 3.1174338528452337),\n",
       "  ('healthy glow', 3.0517890772128062),\n",
       "  ('dry patches', 2.9664570230607965),\n",
       "  ('healthy skin', 2.9602858092389495)],\n",
       " 'How do you maintain healthy skin?': [('maintain healthy skin',\n",
       "   6.193368212669682),\n",
       "  ('body washes', 4.315789473684211),\n",
       "  ('good diet', 4.220318237454101),\n",
       "  ('good soap', 4.075581395348838),\n",
       "  ('healthy diet', 4.066611842105263),\n",
       "  ('healthy skin', 4.039522058823529),\n",
       "  ('taking care', 3.966666666666667),\n",
       "  ('proper diet', 3.966165413533835),\n",
       "  ('good products', 3.928321121376235),\n",
       "  ('drinking plenty', 3.8933333333333335)],\n",
       " 'What is Healthy Skin?': [('healthy skin glows', 5.06989247311828),\n",
       "  ('wrinkle free', 3.85),\n",
       "  ('feels good', 3.8347338935574227),\n",
       "  ('natural glow', 3.7944444444444443),\n",
       "  ('healthy glow', 3.6944444444444446),\n",
       "  ('good elasticity', 3.682352941176471),\n",
       "  ('sun damage', 3.607142857142857),\n",
       "  ('nice glow', 3.603535353535354),\n",
       "  ('healthy skin', 3.5698924731182795),\n",
       "  ('good color', 3.4823529411764707)]}"
      ]
     },
     "execution_count": 68,
     "metadata": {},
     "output_type": "execute_result"
    }
   ],
   "source": [
    "keywords"
   ]
  },
  {
   "cell_type": "code",
   "execution_count": null,
   "metadata": {
    "collapsed": true
   },
   "outputs": [],
   "source": []
  }
 ],
 "metadata": {
  "anaconda-cloud": {},
  "kernelspec": {
   "display_name": "Python [Root]",
   "language": "python",
   "name": "Python [Root]"
  },
  "language_info": {
   "codemirror_mode": {
    "name": "ipython",
    "version": 2
   },
   "file_extension": ".py",
   "mimetype": "text/x-python",
   "name": "python",
   "nbconvert_exporter": "python",
   "pygments_lexer": "ipython2",
   "version": "2.7.12"
  }
 },
 "nbformat": 4,
 "nbformat_minor": 0
}
