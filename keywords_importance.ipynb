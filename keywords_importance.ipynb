{
 "cells": [
  {
   "cell_type": "code",
   "execution_count": 1,
   "metadata": {
    "collapsed": false
   },
   "outputs": [],
   "source": [
    "import numpy as np\n",
    "import pandas as pd\n",
    "import matplotlib.pyplot as plt\n",
    "from sklearn.model_selection import train_test_split\n",
    "from sklearn.pipeline import make_pipeline\n",
    "from sklearn.feature_extraction.text import CountVectorizer\n",
    "from sklearn.svm import LinearSVC"
   ]
  },
  {
   "cell_type": "code",
   "execution_count": 2,
   "metadata": {
    "collapsed": false
   },
   "outputs": [],
   "source": [
    "xl = pd.ExcelFile(\"./data/Beauty_5.xlsx\")"
   ]
  },
  {
   "cell_type": "code",
   "execution_count": 112,
   "metadata": {
    "collapsed": false
   },
   "outputs": [],
   "source": [
    "df = xl.parse()\n",
    "df = df.dropna()"
   ]
  },
  {
   "cell_type": "code",
   "execution_count": 114,
   "metadata": {
    "collapsed": false
   },
   "outputs": [
    {
     "data": {
      "text/html": [
       "<div>\n",
       "<table border=\"1\" class=\"dataframe\">\n",
       "  <thead>\n",
       "    <tr style=\"text-align: right;\">\n",
       "      <th></th>\n",
       "      <th>order</th>\n",
       "      <th>reviewrID</th>\n",
       "      <th>asin</th>\n",
       "      <th>reviewerName</th>\n",
       "      <th>helpful</th>\n",
       "      <th>out of</th>\n",
       "      <th>reviewText\"</th>\n",
       "      <th>overall</th>\n",
       "      <th>summary</th>\n",
       "      <th>unixReviewTime</th>\n",
       "      <th>reviewTime</th>\n",
       "    </tr>\n",
       "  </thead>\n",
       "  <tbody>\n",
       "    <tr>\n",
       "      <th>0</th>\n",
       "      <td>1</td>\n",
       "      <td>A1YJEY40YUW4SE</td>\n",
       "      <td>7806397051</td>\n",
       "      <td>Andrea</td>\n",
       "      <td>3</td>\n",
       "      <td>4.0</td>\n",
       "      <td>Very oily and creamy. Not at all what I expect...</td>\n",
       "      <td>1</td>\n",
       "      <td>Don't waste your money</td>\n",
       "      <td>1.391040e+09</td>\n",
       "      <td>01 30,2014</td>\n",
       "    </tr>\n",
       "    <tr>\n",
       "      <th>1</th>\n",
       "      <td>2</td>\n",
       "      <td>A60XNB876KYML</td>\n",
       "      <td>7806397051</td>\n",
       "      <td>Jessica H.</td>\n",
       "      <td>1</td>\n",
       "      <td>1.0</td>\n",
       "      <td>This palette was a decent price and I was look...</td>\n",
       "      <td>3</td>\n",
       "      <td>OK Palette!</td>\n",
       "      <td>1.397779e+09</td>\n",
       "      <td>04 18,2014</td>\n",
       "    </tr>\n",
       "    <tr>\n",
       "      <th>2</th>\n",
       "      <td>3</td>\n",
       "      <td>A3G6XNM240RMWA</td>\n",
       "      <td>7806397051</td>\n",
       "      <td>Karen</td>\n",
       "      <td>0</td>\n",
       "      <td>1.0</td>\n",
       "      <td>The texture of this concealer pallet is fantas...</td>\n",
       "      <td>4</td>\n",
       "      <td>great quality</td>\n",
       "      <td>1.378426e+09</td>\n",
       "      <td>09 6,2013</td>\n",
       "    </tr>\n",
       "    <tr>\n",
       "      <th>3</th>\n",
       "      <td>4</td>\n",
       "      <td>A1PQFP6SAJ6D80</td>\n",
       "      <td>7806397051</td>\n",
       "      <td>Norah</td>\n",
       "      <td>2</td>\n",
       "      <td>2.0</td>\n",
       "      <td>I really can't tell what exactly this thing is...</td>\n",
       "      <td>2</td>\n",
       "      <td>Do not work on my face</td>\n",
       "      <td>1.386461e+09</td>\n",
       "      <td>12 8,2013</td>\n",
       "    </tr>\n",
       "    <tr>\n",
       "      <th>4</th>\n",
       "      <td>5</td>\n",
       "      <td>A38FVHZTNQ271F</td>\n",
       "      <td>7806397051</td>\n",
       "      <td>Nova Amor</td>\n",
       "      <td>0</td>\n",
       "      <td>0.0</td>\n",
       "      <td>It was a little smaller than I expected,but th...</td>\n",
       "      <td>3</td>\n",
       "      <td>It's okay.</td>\n",
       "      <td>1.382141e+09</td>\n",
       "      <td>10 19,2013</td>\n",
       "    </tr>\n",
       "  </tbody>\n",
       "</table>\n",
       "</div>"
      ],
      "text/plain": [
       "   order       reviewrID        asin reviewerName  helpful  out of  \\\n",
       "0      1  A1YJEY40YUW4SE  7806397051       Andrea        3     4.0   \n",
       "1      2   A60XNB876KYML  7806397051   Jessica H.        1     1.0   \n",
       "2      3  A3G6XNM240RMWA  7806397051        Karen        0     1.0   \n",
       "3      4  A1PQFP6SAJ6D80  7806397051        Norah        2     2.0   \n",
       "4      5  A38FVHZTNQ271F  7806397051    Nova Amor        0     0.0   \n",
       "\n",
       "                                         reviewText\" overall  \\\n",
       "0  Very oily and creamy. Not at all what I expect...       1   \n",
       "1  This palette was a decent price and I was look...       3   \n",
       "2  The texture of this concealer pallet is fantas...       4   \n",
       "3  I really can't tell what exactly this thing is...       2   \n",
       "4  It was a little smaller than I expected,but th...       3   \n",
       "\n",
       "                  summary  unixReviewTime  reviewTime  \n",
       "0  Don't waste your money    1.391040e+09  01 30,2014  \n",
       "1             OK Palette!    1.397779e+09  04 18,2014  \n",
       "2           great quality    1.378426e+09   09 6,2013  \n",
       "3  Do not work on my face    1.386461e+09   12 8,2013  \n",
       "4              It's okay.    1.382141e+09  10 19,2013  "
      ]
     },
     "execution_count": 114,
     "metadata": {},
     "output_type": "execute_result"
    }
   ],
   "source": [
    "df.head()"
   ]
  },
  {
   "cell_type": "code",
   "execution_count": 115,
   "metadata": {
    "collapsed": false
   },
   "outputs": [],
   "source": [
    "x = df.drop(['overall'], axis=1)\n",
    "y = df['overall']\n",
    "\n",
    "# Trying first 1000 examples for now\n",
    "x_train, x_test, y_train, y_test = train_test_split(x[0:100000],\n",
    "                                                    y[0:100000],\n",
    "                                                    test_size=0.3)"
   ]
  },
  {
   "cell_type": "code",
   "execution_count": 116,
   "metadata": {
    "collapsed": false
   },
   "outputs": [],
   "source": [
    "def convert_to_numeric(x):\n",
    "    if type(x) == int:\n",
    "        return x\n",
    "    else:\n",
    "        return 3\n",
    "    \n",
    "y_train = y_train.apply(convert_to_numeric)\n",
    "y_test = y_test.apply(convert_to_numeric)"
   ]
  },
  {
   "cell_type": "code",
   "execution_count": 117,
   "metadata": {
    "collapsed": false
   },
   "outputs": [
    {
     "data": {
      "text/plain": [
       "Pipeline(steps=[('countvectorizer', CountVectorizer(analyzer=u'word', binary=False, decode_error=u'strict',\n",
       "        dtype=<type 'numpy.int64'>, encoding=u'utf-8', input=u'content',\n",
       "        lowercase=True, max_df=1.0, max_features=None, min_df=1,\n",
       "        ngram_range=(1, 1), preprocessor=None, stop_words='engl...ax_iter=1000,\n",
       "     multi_class='ovr', penalty='l2', random_state=None, tol=0.0001,\n",
       "     verbose=0))])"
      ]
     },
     "execution_count": 117,
     "metadata": {},
     "output_type": "execute_result"
    }
   ],
   "source": [
    "# Train the pipeline\n",
    "vectorizer = CountVectorizer(stop_words='english')\n",
    "svc = LinearSVC()\n",
    "\n",
    "text_pipe = make_pipeline(vectorizer, svc)\n",
    "text_pipe.fit(x_train['reviewText\"'], np.array(y_train))"
   ]
  },
  {
   "cell_type": "code",
   "execution_count": 118,
   "metadata": {
    "collapsed": false
   },
   "outputs": [
    {
     "data": {
      "text/plain": [
       "0.61333333333333329"
      ]
     },
     "execution_count": 118,
     "metadata": {},
     "output_type": "execute_result"
    }
   ],
   "source": [
    "# Predict some ratings\n",
    "text_pipe.score(x_test['reviewText\"'], y_test)"
   ]
  },
  {
   "cell_type": "code",
   "execution_count": 119,
   "metadata": {
    "collapsed": false
   },
   "outputs": [],
   "source": [
    "# Get top words for classes\n",
    "def print_top10(vectorizer, clf, class_labels):\n",
    "    \"\"\"Prints features with the highest coefficient values, per class\"\"\"\n",
    "    feature_names = vectorizer.get_feature_names()\n",
    "    for i, class_label in enumerate(class_labels):\n",
    "        top10 = np.argsort(clf.coef_[i])[-20:]\n",
    "        print(\"%s: %s\" % (class_label,\n",
    "              \" \".join(feature_names[j] for j in top10)))"
   ]
  },
  {
   "cell_type": "code",
   "execution_count": 120,
   "metadata": {
    "collapsed": false
   },
   "outputs": [
    {
     "name": "stdout",
     "output_type": "stream",
     "text": [
      "0: impede vowed cinnimon paled booth poodle gots breakable tuscan roof reviewi antiaging opionion smeer danduff compressed philippines vasodilation gouging recommendaveeno\n",
      "1: linesi liable restocking quailty jewels zilch pry regulator bioglycolic 1l enchances ymmv mags internation madei unwarranted scrab caters repackage costuming\n",
      "2: quimica foreverrrrrrr upnote pcons removeradding crackling turmeric 2inch glycolc ovrer rudolf sheesh assumption circulating scratchier sheepishly mobile disappointments reboost cartier\n",
      "3: vainer malformed imoupdate prospective planes suffices steals stinkin cv tremors detaingling oversaturate tapes shhhhh travelled freshner spinner delays dependent igetitdoneright\n",
      "4: inaccurate mybeautycenter c20 poundsthat damned noticeabley maneuverable flab bis scrolled freakish dreams preschool formidable 13been tast thatbut clapping unboxing mentholatum\n"
     ]
    }
   ],
   "source": [
    "print_top10(vectorizer, svc, [0,1,2,3,4])"
   ]
  },
  {
   "cell_type": "code",
   "execution_count": 121,
   "metadata": {
    "collapsed": false
   },
   "outputs": [],
   "source": [
    "def plot_coefficients(classifier, feature_names, top_features=20):\n",
    "    coef = classifier.coef_[0]\n",
    "    top_positive_coefficients = np.argsort(coef)[-top_features:]\n",
    "    top_negative_coefficients = np.argsort(coef)[:top_features]\n",
    "    top_coefficients = np.hstack([top_negative_coefficients, top_positive_coefficients])\n",
    "    \n",
    "    plt.figure(figsize=(15, 5))\n",
    "    colors = ['red' if c < 0 else 'blue' for c in coef[top_coefficients]]\n",
    "    plt.bar(np.arange(2 * top_features), coef[top_coefficients], color=colors)\n",
    "    \n",
    "    feature_names = np.array(feature_names)\n",
    "    plt.xticks(np.arange(1, 1 + 2 * top_features), feature_names[top_coefficients], rotation=60, ha='right')\n",
    "    plt.show()"
   ]
  },
  {
   "cell_type": "code",
   "execution_count": 124,
   "metadata": {
    "collapsed": false,
    "scrolled": false
   },
   "outputs": [
    {
     "data": {
      "image/png": "[encoded data removed]",
      "text/plain": [
       "<matplotlib.figure.Figure at 0x119122c90>"
      ]
     },
     "metadata": {},
     "output_type": "display_data"
    }
   ],
   "source": [
    "plot_coefficients(svc, vectorizer.get_feature_names())"
   ]
  },
  {
   "cell_type": "code",
   "execution_count": 123,
   "metadata": {
    "collapsed": false
   },
   "outputs": [
    {
     "name": "stdout",
     "output_type": "stream",
     "text": [
      "45973\n",
      "45973\n",
      "45973\n"
     ]
    }
   ],
   "source": [
    "print len(vectorizer.vocabulary_)\n",
    "print len(vectorizer.get_feature_names())\n",
    "print len(svc.coef_[0]) # Why are there 5 sets of coefficients?"
   ]
  },
  {
   "cell_type": "code",
   "execution_count": null,
   "metadata": {
    "collapsed": false
   },
   "outputs": [],
   "source": []
  }
 ],
 "metadata": {
  "kernelspec": {
   "display_name": "Python 2",
   "language": "python",
   "name": "python2"
  },
  "language_info": {
   "codemirror_mode": {
    "name": "ipython",
    "version": 2
   },
   "file_extension": ".py",
   "mimetype": "text/x-python",
   "name": "python",
   "nbconvert_exporter": "python",
   "pygments_lexer": "ipython2",
   "version": "2.7.10"
  }
 },
 "nbformat": 4,
 "nbformat_minor": 2
}
